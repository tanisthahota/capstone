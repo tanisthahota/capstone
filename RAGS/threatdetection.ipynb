{
 "cells": [
  {
   "cell_type": "code",
   "execution_count": 3,
   "id": "a6b13d12",
   "metadata": {},
   "outputs": [
    {
     "name": "stdout",
     "output_type": "stream",
     "text": [
      "Sample data: {'Dst_Port': 0.0, 'Protocol': 0.0, 'Flow_Duration': 0.9999892, 'Tot_Fwd_Pkts': 6.459364e-06, 'Tot_Bwd_Pkts': 0.0, 'TotLen_Fwd_Pkts': 0.0, 'TotLen_Bwd_Pkts': 0.0, 'Fwd_Pkt_Len_Max': 0.0, 'Fwd_Pkt_Len_Min': 0.0, 'Fwd_Pkt_Len_Mean': 0.0, 'Fwd_Pkt_Len_Std': 0.0, 'Bwd_Pkt_Len_Max': 0.0, 'Bwd_Pkt_Len_Min': 0.0, 'Bwd_Pkt_Len_Mean': 0.0, 'Bwd_Pkt_Len_Std': 0.0, 'Flow_Byts/s': 0.0, 'Flow_Pkts/s': 6.915719e-09, 'Flow_IAT_Mean': 0.9998132, 'Flow_IAT_Std': 3.2817102e-10, 'Flow_IAT_Max': 0.14000322, 'Flow_IAT_Min': 0.9999325, 'Fwd_IAT_Tot': 0.9999892, 'Fwd_IAT_Mean': 0.9998132, 'Fwd_IAT_Std': 3.2817102e-10, 'Fwd_IAT_Max': 0.14000322, 'Fwd_IAT_Min': 0.9999325, 'Bwd_IAT_Tot': 0.0, 'Bwd_IAT_Mean': 0.0, 'Bwd_IAT_Std': 0.0, 'Bwd_IAT_Max': 0.0, 'Bwd_IAT_Min': 0.0, 'Fwd_PSH_Flags': 0.0, 'Bwd_PSH_Flags': 0.0, 'Fwd_URG_Flags': 0.0, 'Bwd_URG_Flags': 0.0, 'Fwd_Header_Len': 0.0, 'Bwd_Header_Len': 0.0, 'Fwd_Pkts/s': 6.6582793e-09, 'Bwd_Pkts/s': 0.0, 'Pkt_Len_Min': 0.0, 'Pkt_Len_Max': 0.0, 'Pkt_Len_Mean': 0.0, 'Pkt_Len_Std': 0.0, 'Pkt_Len_Var': 0.0, 'FIN_Flag_Cnt': 0.0, 'SYN_Flag_Cnt': 0.0, 'RST_Flag_Cnt': 0.0, 'PSH_Flag_Cnt': 0.0, 'ACK_Flag_Cnt': 0.0, 'URG_Flag_Cnt': 0.0, 'CWE_Flag_Count': 0.0, 'ECE_Flag_Cnt': 0.0, 'Down/Up_Ratio': 0.0, 'Pkt_Size_Avg': 0.0, 'Fwd_Seg_Size_Avg': 0.0, 'Bwd_Seg_Size_Avg': 0.0, 'Fwd_Byts/b_Avg': 0.0, 'Fwd_Pkts/b_Avg': 0.0, 'Fwd_Blk_Rate_Avg': 0.0, 'Bwd_Byts/b_Avg': 0.0, 'Bwd_Pkts/b_Avg': 0.0, 'Bwd_Blk_Rate_Avg': 0.0, 'Subflow_Fwd_Pkts': 6.459364e-06, 'Subflow_Fwd_Byts': 0.0, 'Subflow_Bwd_Pkts': 0.0, 'Subflow_Bwd_Byts': 0.0, 'Init_Fwd_Win_Byts': 0.0, 'Init_Bwd_Win_Byts': 0.0, 'Fwd_Act_Data_Pkts': 0.0, 'Fwd_Seg_Size_Min': 0.0, 'Active_Mean': 0.0, 'Active_Std': 0.0, 'Active_Max': 0.0, 'Active_Min': 0.0, 'Idle_Mean': 0.00016591784, 'Idle_Std': 5.726192e-10, 'Idle_Max': 5.7483212e-05, 'Idle_Min': 0.007259701, 'label': 'Benign'}\n"
     ]
    }
   ],
   "source": [
    "import pandas as pd\n",
    "from datasets import load_dataset\n",
    "\n",
    "dataset = load_dataset(\"abluva/CSE-CIC-IDS2018-V2\", split=\"train\") \n",
    "\n",
    "print(\"Sample data:\", dataset[0])\n"
   ]
  },
  {
   "cell_type": "code",
   "execution_count": 4,
   "id": "63bcc811",
   "metadata": {},
   "outputs": [
    {
     "data": {
      "text/plain": [
       "['Dst_Port',\n",
       " 'Protocol',\n",
       " 'Flow_Duration',\n",
       " 'Tot_Fwd_Pkts',\n",
       " 'Tot_Bwd_Pkts',\n",
       " 'TotLen_Fwd_Pkts',\n",
       " 'TotLen_Bwd_Pkts',\n",
       " 'Fwd_Pkt_Len_Max',\n",
       " 'Fwd_Pkt_Len_Min',\n",
       " 'Fwd_Pkt_Len_Mean',\n",
       " 'Fwd_Pkt_Len_Std',\n",
       " 'Bwd_Pkt_Len_Max',\n",
       " 'Bwd_Pkt_Len_Min',\n",
       " 'Bwd_Pkt_Len_Mean',\n",
       " 'Bwd_Pkt_Len_Std',\n",
       " 'Flow_Byts/s',\n",
       " 'Flow_Pkts/s',\n",
       " 'Flow_IAT_Mean',\n",
       " 'Flow_IAT_Std',\n",
       " 'Flow_IAT_Max',\n",
       " 'Flow_IAT_Min',\n",
       " 'Fwd_IAT_Tot',\n",
       " 'Fwd_IAT_Mean',\n",
       " 'Fwd_IAT_Std',\n",
       " 'Fwd_IAT_Max',\n",
       " 'Fwd_IAT_Min',\n",
       " 'Bwd_IAT_Tot',\n",
       " 'Bwd_IAT_Mean',\n",
       " 'Bwd_IAT_Std',\n",
       " 'Bwd_IAT_Max',\n",
       " 'Bwd_IAT_Min',\n",
       " 'Fwd_PSH_Flags',\n",
       " 'Bwd_PSH_Flags',\n",
       " 'Fwd_URG_Flags',\n",
       " 'Bwd_URG_Flags',\n",
       " 'Fwd_Header_Len',\n",
       " 'Bwd_Header_Len',\n",
       " 'Fwd_Pkts/s',\n",
       " 'Bwd_Pkts/s',\n",
       " 'Pkt_Len_Min',\n",
       " 'Pkt_Len_Max',\n",
       " 'Pkt_Len_Mean',\n",
       " 'Pkt_Len_Std',\n",
       " 'Pkt_Len_Var',\n",
       " 'FIN_Flag_Cnt',\n",
       " 'SYN_Flag_Cnt',\n",
       " 'RST_Flag_Cnt',\n",
       " 'PSH_Flag_Cnt',\n",
       " 'ACK_Flag_Cnt',\n",
       " 'URG_Flag_Cnt',\n",
       " 'CWE_Flag_Count',\n",
       " 'ECE_Flag_Cnt',\n",
       " 'Down/Up_Ratio',\n",
       " 'Pkt_Size_Avg',\n",
       " 'Fwd_Seg_Size_Avg',\n",
       " 'Bwd_Seg_Size_Avg',\n",
       " 'Fwd_Byts/b_Avg',\n",
       " 'Fwd_Pkts/b_Avg',\n",
       " 'Fwd_Blk_Rate_Avg',\n",
       " 'Bwd_Byts/b_Avg',\n",
       " 'Bwd_Pkts/b_Avg',\n",
       " 'Bwd_Blk_Rate_Avg',\n",
       " 'Subflow_Fwd_Pkts',\n",
       " 'Subflow_Fwd_Byts',\n",
       " 'Subflow_Bwd_Pkts',\n",
       " 'Subflow_Bwd_Byts',\n",
       " 'Init_Fwd_Win_Byts',\n",
       " 'Init_Bwd_Win_Byts',\n",
       " 'Fwd_Act_Data_Pkts',\n",
       " 'Fwd_Seg_Size_Min',\n",
       " 'Active_Mean',\n",
       " 'Active_Std',\n",
       " 'Active_Max',\n",
       " 'Active_Min',\n",
       " 'Idle_Mean',\n",
       " 'Idle_Std',\n",
       " 'Idle_Max',\n",
       " 'Idle_Min',\n",
       " 'label']"
      ]
     },
     "execution_count": 4,
     "metadata": {},
     "output_type": "execute_result"
    }
   ],
   "source": [
    "dataset.column_names"
   ]
  },
  {
   "cell_type": "code",
   "execution_count": 5,
   "id": "70c83be7",
   "metadata": {},
   "outputs": [
    {
     "name": "stdout",
     "output_type": "stream",
     "text": [
      "{1: 'Dst_Port', 2: 'Protocol', 3: 'Flow_Duration', 4: 'Tot_Fwd_Pkts', 5: 'Tot_Bwd_Pkts', 6: 'TotLen_Fwd_Pkts', 7: 'TotLen_Bwd_Pkts', 8: 'Fwd_Pkt_Len_Max', 9: 'Fwd_Pkt_Len_Min', 10: 'Fwd_Pkt_Len_Mean', 11: 'Fwd_Pkt_Len_Std', 12: 'Bwd_Pkt_Len_Max', 13: 'Bwd_Pkt_Len_Min', 14: 'Bwd_Pkt_Len_Mean', 15: 'Bwd_Pkt_Len_Std', 16: 'Flow_Byts/s', 17: 'Flow_Pkts/s', 18: 'Flow_IAT_Mean', 19: 'Flow_IAT_Std', 20: 'Flow_IAT_Max', 21: 'Flow_IAT_Min', 22: 'Fwd_IAT_Tot', 23: 'Fwd_IAT_Mean', 24: 'Fwd_IAT_Std', 25: 'Fwd_IAT_Max', 26: 'Fwd_IAT_Min', 27: 'Bwd_IAT_Tot', 28: 'Bwd_IAT_Mean', 29: 'Bwd_IAT_Std', 30: 'Bwd_IAT_Max', 31: 'Bwd_IAT_Min', 32: 'Fwd_PSH_Flags', 33: 'Bwd_PSH_Flags', 34: 'Fwd_URG_Flags', 35: 'Bwd_URG_Flags', 36: 'Fwd_Header_Len', 37: 'Bwd_Header_Len', 38: 'Fwd_Pkts/s', 39: 'Bwd_Pkts/s', 40: 'Pkt_Len_Min', 41: 'Pkt_Len_Max', 42: 'Pkt_Len_Mean', 43: 'Pkt_Len_Std', 44: 'Pkt_Len_Var', 45: 'FIN_Flag_Cnt', 46: 'SYN_Flag_Cnt', 47: 'RST_Flag_Cnt', 48: 'PSH_Flag_Cnt', 49: 'ACK_Flag_Cnt', 50: 'URG_Flag_Cnt', 51: 'CWE_Flag_Count', 52: 'ECE_Flag_Cnt', 53: 'Down/Up_Ratio', 54: 'Pkt_Size_Avg', 55: 'Fwd_Seg_Size_Avg', 56: 'Bwd_Seg_Size_Avg', 57: 'Fwd_Byts/b_Avg', 58: 'Fwd_Pkts/b_Avg', 59: 'Fwd_Blk_Rate_Avg', 60: 'Bwd_Byts/b_Avg', 61: 'Bwd_Pkts/b_Avg', 62: 'Bwd_Blk_Rate_Avg', 63: 'Subflow_Fwd_Pkts', 64: 'Subflow_Fwd_Byts', 65: 'Subflow_Bwd_Pkts', 66: 'Subflow_Bwd_Byts', 67: 'Init_Fwd_Win_Byts', 68: 'Init_Bwd_Win_Byts', 69: 'Fwd_Act_Data_Pkts', 70: 'Fwd_Seg_Size_Min', 71: 'Active_Mean', 72: 'Active_Std', 73: 'Active_Max', 74: 'Active_Min', 75: 'Idle_Mean', 76: 'Idle_Std', 77: 'Idle_Max', 78: 'Idle_Min', 79: 'label'}\n"
     ]
    }
   ],
   "source": [
    "feature_labels = {(id+1):label for id, label in enumerate(dataset.column_names)}\n",
    "print(feature_labels)"
   ]
  },
  {
   "cell_type": "code",
   "execution_count": 6,
   "id": "acd5502a",
   "metadata": {},
   "outputs": [],
   "source": [
    "# unique_labels = set(dataset[\"label\"])\n",
    "# print(unique_labels)"
   ]
  },
  {
   "cell_type": "code",
   "execution_count": null,
   "id": "4f10dcd8",
   "metadata": {},
   "outputs": [],
   "source": [
    "import json\n",
    "feature_labels = {id+1: label for id, label in enumerate(dataset.column_names)}\n",
    "\n",
    "\n",
    "\n",
    "def preprocess_batch(batch, feature_labels):\n",
    "    import json\n",
    "    attack_feature_map = {\n",
    "        \"Brute Force -Web\": [1, 10, 70],\n",
    "        \"Brute Force -XSS\": [1, 10, 70],\n",
    "        \"FTP-BruteForce\":   [1, 10, 70],\n",
    "        \"SSH-Bruteforce\":   [1, 10, 70],\n",
    "        \"DoS attacks-Slowloris\":    [1, 2, 6, 14, 24, 35, 41, 67, 68, 70, 74],\n",
    "        \"DoS attacks-SlowHTTPTest\": [1, 2, 6, 14, 24, 35, 41, 67, 68, 70, 74],\n",
    "        \"DoS attacks-GoldenEye\":    [1, 2, 6, 14, 24, 35, 41, 67, 68, 70, 74],\n",
    "        \"DoS attacks-Hulk\":         [1, 2, 6, 14, 24, 35, 41, 67, 68, 70, 74],\n",
    "        \"DDOS attack-LOIC-UDP\":   [1, 5, 6, 8, 48, 67, 68, 78],\n",
    "        \"DDoS attacks-LOIC-HTTP\": [1, 5, 6, 8, 48, 67, 68, 78],\n",
    "        \"DDOS attack-HOIC\":       [1, 5, 6, 8, 48, 67, 68, 78],\n",
    "        \"SQL Injection\": [1, 2, 4, 16, 21, 25, 67, 68],\n",
    "        \"Infilteration\": [1, 8, 68],\n",
    "        \"Bot\": [1, 6, 31, 35, 44, 67],\n",
    "        \"Comb\": [1, 2, 6, 14, 24, 35, 41, 67, 68, 70, 74],\n",
    "        \"Benign\": [1, 2, 3, 4, 5, 6, 7, 8],\n",
    "    }\n",
    "\n",
    "    summaries, metadatas = [], []\n",
    "\n",
    "    for i in range(len(batch[\"label\"])):\n",
    "        attack_type = batch[\"label\"][i]\n",
    "        selected_features = attack_feature_map.get(attack_type, [])\n",
    "\n",
    "        summary_lines = [f\"Traffic labeled as {attack_type}.\"]\n",
    "        metadata = {\"label\": attack_type}\n",
    "\n",
    "        for feat_num in selected_features:\n",
    "            feat_name = feature_labels.get(feat_num, f\"Feature_{feat_num}\")\n",
    "            if feat_name in batch:\n",
    "                value = batch[feat_name][i]\n",
    "                summary_lines.append(f\"{feat_name}: {value}\")\n",
    "                metadata[feat_name] = value\n",
    "\n",
    "        summaries.append(\"\\n\".join(summary_lines))\n",
    "        metadatas.append(json.dumps(metadata))  \n",
    "\n",
    "    return {\"summary\": summaries, \"metadata\": metadatas}\n",
    "\n",
    "\n",
    "\n",
    "processed_dataset = dataset.map(\n",
    "    preprocess_batch,\n",
    "    batch_size = 10000,\n",
    "    fn_kwargs={\"feature_labels\": feature_labels},\n",
    "    batched=True,\n",
    "    num_proc=4\n",
    ")\n"
   ]
  },
  {
   "cell_type": "code",
   "execution_count": 8,
   "id": "21b681a0",
   "metadata": {},
   "outputs": [
    {
     "name": "stdout",
     "output_type": "stream",
     "text": [
      "{'Dst_Port': 0.00032044924, 'Protocol': 0.3529412, 'Flow_Duration': 0.9998239, 'Tot_Fwd_Pkts': 0.0, 'Tot_Bwd_Pkts': 5.314061e-05, 'TotLen_Fwd_Pkts': 0.0, 'TotLen_Bwd_Pkts': 0.0, 'Fwd_Pkt_Len_Max': 0.0, 'Fwd_Pkt_Len_Min': 0.0, 'Fwd_Pkt_Len_Mean': 0.0, 'Fwd_Pkt_Len_Std': 0.0, 'Bwd_Pkt_Len_Max': 0.0, 'Bwd_Pkt_Len_Min': 0.0, 'Bwd_Pkt_Len_Mean': 0.0, 'Bwd_Pkt_Len_Std': 0.0, 'Flow_Byts/s': 0.0, 'Flow_Pkts/s': 0.125, 'Flow_IAT_Mean': 0.9996479, 'Flow_IAT_Std': 0.0, 'Flow_IAT_Max': 0.13995378, 'Flow_IAT_Min': 0.99987286, 'Fwd_IAT_Tot': 0.9998239, 'Fwd_IAT_Mean': 0.9996479, 'Fwd_IAT_Std': 0.0, 'Fwd_IAT_Max': 0.13995378, 'Fwd_IAT_Min': 0.99987286, 'Bwd_IAT_Tot': 0.0, 'Bwd_IAT_Mean': 0.0, 'Bwd_IAT_Std': 0.0, 'Bwd_IAT_Max': 0.0, 'Bwd_IAT_Min': 0.0, 'Fwd_PSH_Flags': 0.0, 'Bwd_PSH_Flags': 0.0, 'Fwd_URG_Flags': 0.0, 'Bwd_URG_Flags': 0.0, 'Fwd_Header_Len': 1.6148359e-05, 'Bwd_Header_Len': 5.3138916e-05, 'Fwd_Pkts/s': 0.0625, 'Bwd_Pkts/s': 0.125, 'Pkt_Len_Min': 0.0, 'Pkt_Len_Max': 0.0, 'Pkt_Len_Mean': 0.0, 'Pkt_Len_Std': 0.0, 'Pkt_Len_Var': 0.0, 'FIN_Flag_Cnt': 0.0, 'SYN_Flag_Cnt': 0.0, 'RST_Flag_Cnt': 0.0, 'PSH_Flag_Cnt': 1.0, 'ACK_Flag_Cnt': 0.0, 'URG_Flag_Cnt': 0.0, 'CWE_Flag_Count': 0.0, 'ECE_Flag_Cnt': 0.0, 'Down/Up_Ratio': 0.0125, 'Pkt_Size_Avg': 0.0, 'Fwd_Seg_Size_Avg': 0.0, 'Bwd_Seg_Size_Avg': 0.0, 'Fwd_Byts/b_Avg': 0.0, 'Fwd_Pkts/b_Avg': 0.0, 'Fwd_Blk_Rate_Avg': 0.0, 'Bwd_Byts/b_Avg': 0.0, 'Bwd_Pkts/b_Avg': 0.0, 'Bwd_Blk_Rate_Avg': 0.0, 'Subflow_Fwd_Pkts': 0.0, 'Subflow_Fwd_Byts': 0.0, 'Subflow_Bwd_Pkts': 5.314061e-05, 'Subflow_Bwd_Byts': 0.0, 'Init_Fwd_Win_Byts': 0.4102173, 'Init_Bwd_Win_Byts': 1.5258789e-05, 'Fwd_Act_Data_Pkts': 0.0, 'Fwd_Seg_Size_Min': 0.8333333, 'Active_Mean': 0.0, 'Active_Std': 0.0, 'Active_Max': 0.0, 'Active_Min': 0.0, 'Idle_Mean': 0.0, 'Idle_Std': 0.0, 'Idle_Max': 0.0, 'Idle_Min': 0.0, 'label': 'FTP-BruteForce', 'summary': 'Traffic labeled as FTP-BruteForce.\\nDst_Port: 0.00032044924\\nFwd_Pkt_Len_Mean: 0.0\\nFwd_Seg_Size_Min: 0.8333333', 'metadata': '{\"label\": \"FTP-BruteForce\", \"Dst_Port\": 0.00032044924, \"Fwd_Pkt_Len_Mean\": 0.0, \"Fwd_Seg_Size_Min\": 0.8333333}'}\n"
     ]
    }
   ],
   "source": [
    "print(processed_dataset[10000])"
   ]
  },
  {
   "cell_type": "code",
   "execution_count": 9,
   "id": "2ce71460",
   "metadata": {},
   "outputs": [
    {
     "name": "stdout",
     "output_type": "stream",
     "text": [
      "Traffic labeled as SSH-Bruteforce.\n",
      "Dst_Port: 0.00033570873\n",
      "Fwd_Pkt_Len_Mean: 0.0053018755\n",
      "Fwd_Seg_Size_Min: 0.6666667\n",
      "{\"label\": \"SSH-Bruteforce\", \"Dst_Port\": 0.00033570873, \"Fwd_Pkt_Len_Mean\": 0.0053018755, \"Fwd_Seg_Size_Min\": 0.6666667}\n"
     ]
    }
   ],
   "source": [
    "print(processed_dataset[50000][\"summary\"])\n",
    "print(processed_dataset[50000][\"metadata\"])"
   ]
  },
  {
   "cell_type": "code",
   "execution_count": 10,
   "id": "d2b4711d",
   "metadata": {},
   "outputs": [
    {
     "data": {
      "text/plain": [
       "Dataset({\n",
       "    features: ['Dst_Port', 'Protocol', 'Flow_Duration', 'Tot_Fwd_Pkts', 'Tot_Bwd_Pkts', 'TotLen_Fwd_Pkts', 'TotLen_Bwd_Pkts', 'Fwd_Pkt_Len_Max', 'Fwd_Pkt_Len_Min', 'Fwd_Pkt_Len_Mean', 'Fwd_Pkt_Len_Std', 'Bwd_Pkt_Len_Max', 'Bwd_Pkt_Len_Min', 'Bwd_Pkt_Len_Mean', 'Bwd_Pkt_Len_Std', 'Flow_Byts/s', 'Flow_Pkts/s', 'Flow_IAT_Mean', 'Flow_IAT_Std', 'Flow_IAT_Max', 'Flow_IAT_Min', 'Fwd_IAT_Tot', 'Fwd_IAT_Mean', 'Fwd_IAT_Std', 'Fwd_IAT_Max', 'Fwd_IAT_Min', 'Bwd_IAT_Tot', 'Bwd_IAT_Mean', 'Bwd_IAT_Std', 'Bwd_IAT_Max', 'Bwd_IAT_Min', 'Fwd_PSH_Flags', 'Bwd_PSH_Flags', 'Fwd_URG_Flags', 'Bwd_URG_Flags', 'Fwd_Header_Len', 'Bwd_Header_Len', 'Fwd_Pkts/s', 'Bwd_Pkts/s', 'Pkt_Len_Min', 'Pkt_Len_Max', 'Pkt_Len_Mean', 'Pkt_Len_Std', 'Pkt_Len_Var', 'FIN_Flag_Cnt', 'SYN_Flag_Cnt', 'RST_Flag_Cnt', 'PSH_Flag_Cnt', 'ACK_Flag_Cnt', 'URG_Flag_Cnt', 'CWE_Flag_Count', 'ECE_Flag_Cnt', 'Down/Up_Ratio', 'Pkt_Size_Avg', 'Fwd_Seg_Size_Avg', 'Bwd_Seg_Size_Avg', 'Fwd_Byts/b_Avg', 'Fwd_Pkts/b_Avg', 'Fwd_Blk_Rate_Avg', 'Bwd_Byts/b_Avg', 'Bwd_Pkts/b_Avg', 'Bwd_Blk_Rate_Avg', 'Subflow_Fwd_Pkts', 'Subflow_Fwd_Byts', 'Subflow_Bwd_Pkts', 'Subflow_Bwd_Byts', 'Init_Fwd_Win_Byts', 'Init_Bwd_Win_Byts', 'Fwd_Act_Data_Pkts', 'Fwd_Seg_Size_Min', 'Active_Mean', 'Active_Std', 'Active_Max', 'Active_Min', 'Idle_Mean', 'Idle_Std', 'Idle_Max', 'Idle_Min', 'label', 'summary', 'metadata'],\n",
       "    num_rows: 3155891\n",
       "})"
      ]
     },
     "execution_count": 10,
     "metadata": {},
     "output_type": "execute_result"
    }
   ],
   "source": [
    "processed_dataset"
   ]
  },
  {
   "cell_type": "code",
   "execution_count": 11,
   "id": "73fb499a",
   "metadata": {},
   "outputs": [],
   "source": [
    "def add_index(example, idx):\n",
    "    example[\"doc_id\"] = f\"doc_{idx}\"\n",
    "    return example\n",
    "\n",
    "indexed_dataset = processed_dataset.map(\n",
    "    add_index,\n",
    "    with_indices=True,\n",
    "    num_proc=4\n",
    ")\n"
   ]
  },
  {
   "cell_type": "code",
   "execution_count": 12,
   "id": "5f0eb0a9",
   "metadata": {},
   "outputs": [
    {
     "data": {
      "text/plain": [
       "{'Dst_Port': 0.0,\n",
       " 'Protocol': 0.0,\n",
       " 'Flow_Duration': 0.9999892,\n",
       " 'Tot_Fwd_Pkts': 6.459364e-06,\n",
       " 'Tot_Bwd_Pkts': 0.0,\n",
       " 'TotLen_Fwd_Pkts': 0.0,\n",
       " 'TotLen_Bwd_Pkts': 0.0,\n",
       " 'Fwd_Pkt_Len_Max': 0.0,\n",
       " 'Fwd_Pkt_Len_Min': 0.0,\n",
       " 'Fwd_Pkt_Len_Mean': 0.0,\n",
       " 'Fwd_Pkt_Len_Std': 0.0,\n",
       " 'Bwd_Pkt_Len_Max': 0.0,\n",
       " 'Bwd_Pkt_Len_Min': 0.0,\n",
       " 'Bwd_Pkt_Len_Mean': 0.0,\n",
       " 'Bwd_Pkt_Len_Std': 0.0,\n",
       " 'Flow_Byts/s': 0.0,\n",
       " 'Flow_Pkts/s': 6.915719e-09,\n",
       " 'Flow_IAT_Mean': 0.9998132,\n",
       " 'Flow_IAT_Std': 3.2817102e-10,\n",
       " 'Flow_IAT_Max': 0.14000322,\n",
       " 'Flow_IAT_Min': 0.9999325,\n",
       " 'Fwd_IAT_Tot': 0.9999892,\n",
       " 'Fwd_IAT_Mean': 0.9998132,\n",
       " 'Fwd_IAT_Std': 3.2817102e-10,\n",
       " 'Fwd_IAT_Max': 0.14000322,\n",
       " 'Fwd_IAT_Min': 0.9999325,\n",
       " 'Bwd_IAT_Tot': 0.0,\n",
       " 'Bwd_IAT_Mean': 0.0,\n",
       " 'Bwd_IAT_Std': 0.0,\n",
       " 'Bwd_IAT_Max': 0.0,\n",
       " 'Bwd_IAT_Min': 0.0,\n",
       " 'Fwd_PSH_Flags': 0.0,\n",
       " 'Bwd_PSH_Flags': 0.0,\n",
       " 'Fwd_URG_Flags': 0.0,\n",
       " 'Bwd_URG_Flags': 0.0,\n",
       " 'Fwd_Header_Len': 0.0,\n",
       " 'Bwd_Header_Len': 0.0,\n",
       " 'Fwd_Pkts/s': 6.6582793e-09,\n",
       " 'Bwd_Pkts/s': 0.0,\n",
       " 'Pkt_Len_Min': 0.0,\n",
       " 'Pkt_Len_Max': 0.0,\n",
       " 'Pkt_Len_Mean': 0.0,\n",
       " 'Pkt_Len_Std': 0.0,\n",
       " 'Pkt_Len_Var': 0.0,\n",
       " 'FIN_Flag_Cnt': 0.0,\n",
       " 'SYN_Flag_Cnt': 0.0,\n",
       " 'RST_Flag_Cnt': 0.0,\n",
       " 'PSH_Flag_Cnt': 0.0,\n",
       " 'ACK_Flag_Cnt': 0.0,\n",
       " 'URG_Flag_Cnt': 0.0,\n",
       " 'CWE_Flag_Count': 0.0,\n",
       " 'ECE_Flag_Cnt': 0.0,\n",
       " 'Down/Up_Ratio': 0.0,\n",
       " 'Pkt_Size_Avg': 0.0,\n",
       " 'Fwd_Seg_Size_Avg': 0.0,\n",
       " 'Bwd_Seg_Size_Avg': 0.0,\n",
       " 'Fwd_Byts/b_Avg': 0.0,\n",
       " 'Fwd_Pkts/b_Avg': 0.0,\n",
       " 'Fwd_Blk_Rate_Avg': 0.0,\n",
       " 'Bwd_Byts/b_Avg': 0.0,\n",
       " 'Bwd_Pkts/b_Avg': 0.0,\n",
       " 'Bwd_Blk_Rate_Avg': 0.0,\n",
       " 'Subflow_Fwd_Pkts': 6.459364e-06,\n",
       " 'Subflow_Fwd_Byts': 0.0,\n",
       " 'Subflow_Bwd_Pkts': 0.0,\n",
       " 'Subflow_Bwd_Byts': 0.0,\n",
       " 'Init_Fwd_Win_Byts': 0.0,\n",
       " 'Init_Bwd_Win_Byts': 0.0,\n",
       " 'Fwd_Act_Data_Pkts': 0.0,\n",
       " 'Fwd_Seg_Size_Min': 0.0,\n",
       " 'Active_Mean': 0.0,\n",
       " 'Active_Std': 0.0,\n",
       " 'Active_Max': 0.0,\n",
       " 'Active_Min': 0.0,\n",
       " 'Idle_Mean': 0.00016591784,\n",
       " 'Idle_Std': 5.726192e-10,\n",
       " 'Idle_Max': 5.7483212e-05,\n",
       " 'Idle_Min': 0.007259701,\n",
       " 'label': 'Benign',\n",
       " 'summary': 'Traffic labeled as Benign.\\nDst_Port: 0.0\\nProtocol: 0.0\\nFlow_Duration: 0.9999892\\nTot_Fwd_Pkts: 6.459364e-06\\nTot_Bwd_Pkts: 0.0\\nTotLen_Fwd_Pkts: 0.0\\nTotLen_Bwd_Pkts: 0.0\\nFwd_Pkt_Len_Max: 0.0',\n",
       " 'metadata': '{\"label\": \"Benign\", \"Dst_Port\": 0.0, \"Protocol\": 0.0, \"Flow_Duration\": 0.9999892, \"Tot_Fwd_Pkts\": 6.459364e-06, \"Tot_Bwd_Pkts\": 0.0, \"TotLen_Fwd_Pkts\": 0.0, \"TotLen_Bwd_Pkts\": 0.0, \"Fwd_Pkt_Len_Max\": 0.0}',\n",
       " 'doc_id': 'doc_0'}"
      ]
     },
     "execution_count": 12,
     "metadata": {},
     "output_type": "execute_result"
    }
   ],
   "source": [
    "indexed_dataset[0]"
   ]
  },
  {
   "cell_type": "code",
   "execution_count": 14,
   "id": "95d020d2",
   "metadata": {},
   "outputs": [
    {
     "name": "stderr",
     "output_type": "stream",
     "text": [
      "c:\\Users\\tanis\\anaconda3\\envs\\capstone\\lib\\site-packages\\huggingface_hub\\file_download.py:945: FutureWarning: `resume_download` is deprecated and will be removed in version 1.0.0. Downloads always resume when possible. If you want to force a new download, use `force_download=True`.\n",
      "  warnings.warn(\n"
     ]
    }
   ],
   "source": [
    "from sentence_transformers import SentenceTransformer\n",
    "import chromadb\n",
    "import ollama\n",
    "\n",
    "embedder = SentenceTransformer(\"sentence-transformers/all-MiniLM-L6-v2\")\n",
    "\n",
    "chroma_client = chromadb.PersistentClient(path=\"./chroma_ids2018\")\n",
    "collection = chroma_client.get_or_create_collection(name=\"ids2018\")\n",
    "\n"
   ]
  },
  {
   "cell_type": "code",
   "execution_count": null,
   "id": "db58c9e9",
   "metadata": {},
   "outputs": [],
   "source": [
    "\n",
    "texts, ids, metadatas = [], [], []\n",
    "\n",
    "for row in indexed_dataset:  # already has summary, metadata, doc_id\n",
    "    combined_text = row[\"summary\"] + \"\\nMetadata: \" + row[\"metadata\"]\n",
    "    texts.append(combined_text)\n",
    "    ids.append(row[\"doc_id\"])   # ✅ unique doc_id like doc_0 ... doc_N\n",
    "    metadatas.append({\"label\": row[\"label\"], \"doc_id\": row[\"doc_id\"]})\n",
    "\n",
    "\n",
    "batch_size = 10_000\n",
    "for start in range(0, len(texts), batch_size):\n",
    "    end = start + batch_size\n",
    "    batch_texts = texts[start:end]\n",
    "    batch_ids = ids[start:end]\n",
    "    batch_metas = metadatas[start:end]\n",
    "\n",
    "    embeds = embedder.encode(batch_texts, show_progress_bar=True, batch_size=256).tolist()\n",
    "\n",
    "    collection.add(\n",
    "        documents=batch_texts,\n",
    "        embeddings=embeds,\n",
    "        metadatas=batch_metas,\n",
    "        ids=batch_ids\n",
    "    )\n",
    "\n",
    "print(\"✅ Inserted dataset into Chroma with MiniLM embeddings\")\n",
    "\n"
   ]
  },
  {
   "cell_type": "code",
   "execution_count": null,
   "id": "ea518c23",
   "metadata": {},
   "outputs": [],
   "source": [
    "\n",
    "def rag_query(query, top_k=3):\n",
    "    query_emb = embedder.encode([query]).tolist()\n",
    "\n",
    "    results = collection.query(\n",
    "        query_embeddings=query_emb,\n",
    "        n_results=top_k\n",
    "    )\n",
    "    retrieved_docs = results[\"documents\"][0]\n",
    "\n",
    "    # Build context\n",
    "    context = \"\\n\".join(retrieved_docs)\n",
    "    prompt = f\"\"\"You are a helpful assistant.\n",
    "Use the following network traffic logs to answer the question.\n",
    "\n",
    "Context:\n",
    "{context}\n",
    "\n",
    "Question: {query}\n",
    "Answer:\"\"\"\n",
    "\n",
    "    # Call Gemma via Ollama\n",
    "    response = ollama.chat(\n",
    "        model=\"gemma3:4b\",\n",
    "        messages=[{\"role\": \"user\", \"content\": prompt}]\n",
    "    )\n",
    "\n",
    "    return response[\"message\"][\"content\"]\n",
    "\n",
    "\n",
    "print(rag_query(\"Explain the signs of a DDoS UDP flood.\"))\n",
    "print(rag_query(\"What does a brute force attack look like in traffic logs?\"))\n"
   ]
  }
 ],
 "metadata": {
  "kernelspec": {
   "display_name": "capstone",
   "language": "python",
   "name": "python3"
  },
  "language_info": {
   "codemirror_mode": {
    "name": "ipython",
    "version": 3
   },
   "file_extension": ".py",
   "mimetype": "text/x-python",
   "name": "python",
   "nbconvert_exporter": "python",
   "pygments_lexer": "ipython3",
   "version": "3.10.16"
  }
 },
 "nbformat": 4,
 "nbformat_minor": 5
}
